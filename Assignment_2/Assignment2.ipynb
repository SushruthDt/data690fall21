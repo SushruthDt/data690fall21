{
  "nbformat": 4,
  "nbformat_minor": 0,
  "metadata": {
    "colab": {
      "name": "Assignment2.ipynb",
      "provenance": [],
      "collapsed_sections": [],
      "authorship_tag": "ABX9TyNxNmy2g7XQ5uZ3Xb98/mwa",
      "include_colab_link": true
    },
    "kernelspec": {
      "name": "python3",
      "display_name": "Python 3"
    },
    "language_info": {
      "name": "python"
    }
  },
  "cells": [
    {
      "cell_type": "markdown",
      "metadata": {
        "id": "view-in-github",
        "colab_type": "text"
      },
      "source": [
        "<a href=\"https://colab.research.google.com/github/SushruthDt/data690fall21/blob/main/Assignment_2/Assignment2.ipynb\" target=\"_parent\"><img src=\"https://colab.research.google.com/assets/colab-badge.svg\" alt=\"Open In Colab\"/></a>"
      ]
    },
    {
      "cell_type": "markdown",
      "source": [
        "## Assignment 2\n",
        "\n",
        "-------------------\n",
        "#### Name : Sushruth DT\n",
        "#### UMBC ID : MM73057\n"
      ],
      "metadata": {
        "id": "kQYCQL9IP1UN"
      }
    },
    {
      "cell_type": "markdown",
      "source": [
        "Steps to be followed:\n",
        "- I will use exception handling - try/except\n",
        "- Display message on invalid input\n",
        "- Will use statistical function to obatin required outputs"
      ],
      "metadata": {
        "id": "pIJS2hwarVmp"
      }
    },
    {
      "cell_type": "code",
      "source": [
        "NewList = [] #Creating new List\n",
        "for l in range(5):\n",
        "    while True:\n",
        "        try:\n",
        "            ip = input(\"Please enter the integer {}: \".format(l+1))\n",
        "            ip= int(ip)\n",
        "            break #If not integer \n",
        "        except:\n",
        "            print(\"\\n INVALID INPUT: Please enter valid integer \\n\")\n",
        "    NewList.append(ip)"
      ],
      "metadata": {
        "colab": {
          "base_uri": "https://localhost:8080/"
        },
        "id": "237WtGliYpNU",
        "outputId": "587a5c34-840e-4162-d4ce-22df6269d363"
      },
      "execution_count": 42,
      "outputs": [
        {
          "name": "stdout",
          "output_type": "stream",
          "text": [
            "Please enter the integer 1: 1\n",
            "Please enter the integer 2: \n",
            "\n",
            " INVALID INPUT: Please enter valid integer \n",
            "\n",
            "Please enter the integer 2: 3\n",
            "Please enter the integer 3: 4\n",
            "Please enter the integer 4: 5\n",
            "Please enter the integer 5: 6\n"
          ]
        },
        {
          "output_type": "execute_result",
          "data": {
            "text/plain": [
              "2"
            ]
          },
          "metadata": {},
          "execution_count": 42
        }
      ]
    },
    {
      "cell_type": "code",
      "source": [
        "print(\"----------------------------\")\n",
        "print(\"The Numbers you entered are : \", NewList)\n",
        "print(\"----------------------------\")\n"
      ],
      "metadata": {
        "colab": {
          "base_uri": "https://localhost:8080/"
        },
        "id": "ceRzmKrvg-8N",
        "outputId": "c3be3769-ee06-45fd-fd4b-d85f59e68162"
      },
      "execution_count": 43,
      "outputs": [
        {
          "output_type": "stream",
          "name": "stdout",
          "text": [
            "----------------------------\n",
            "The Numbers you entered are :  [1, 3, 4, 5, 6]\n",
            "----------------------------\n"
          ]
        }
      ]
    },
    {
      "cell_type": "markdown",
      "source": [
        "#### Minimum Value"
      ],
      "metadata": {
        "id": "TQ7kya_2iLCs"
      }
    },
    {
      "cell_type": "code",
      "source": [
        "MinV = min(NewList)\n",
        "print('Most minimum value of List is \"',MinV)\n"
      ],
      "metadata": {
        "colab": {
          "base_uri": "https://localhost:8080/"
        },
        "id": "1b9C2xduiH5F",
        "outputId": "5e1963fd-300e-4d3d-da0a-2d14b36bbfd7"
      },
      "execution_count": 44,
      "outputs": [
        {
          "output_type": "stream",
          "name": "stdout",
          "text": [
            "Most minimum value of List is \" 1\n"
          ]
        }
      ]
    },
    {
      "cell_type": "markdown",
      "source": [
        "#### Maximum Value"
      ],
      "metadata": {
        "id": "GjieoCyzinWb"
      }
    },
    {
      "cell_type": "code",
      "source": [
        "MaxV = max(NewList)\n",
        "print('Most Maximum value of List is \"',MaxV)\n"
      ],
      "metadata": {
        "colab": {
          "base_uri": "https://localhost:8080/"
        },
        "id": "Xji2DAZMi092",
        "outputId": "3008ddde-fd4b-43b9-883c-7d5eb1d5261e"
      },
      "execution_count": 45,
      "outputs": [
        {
          "output_type": "stream",
          "name": "stdout",
          "text": [
            "Most Maximum value of List is \" 6\n"
          ]
        }
      ]
    },
    {
      "cell_type": "markdown",
      "source": [
        "#### Mean Value"
      ],
      "metadata": {
        "id": "5S2GZMhei_V_"
      }
    },
    {
      "cell_type": "code",
      "source": [
        "mean = sum(NewList) / len(NewList)\n",
        "print('Most Mean value of List is \"',mean)\n"
      ],
      "metadata": {
        "colab": {
          "base_uri": "https://localhost:8080/"
        },
        "id": "a-fjlrlrkOr_",
        "outputId": "ae4590e9-5970-42af-ca47-c7e3966d7dd7"
      },
      "execution_count": 46,
      "outputs": [
        {
          "output_type": "stream",
          "name": "stdout",
          "text": [
            "Most Mean value of List is \" 3.8\n"
          ]
        }
      ]
    },
    {
      "cell_type": "markdown",
      "source": [
        "#### Range Value"
      ],
      "metadata": {
        "id": "hQ1NRylAk5OC"
      }
    },
    {
      "cell_type": "code",
      "source": [
        "a = NewList\n",
        "a.sort()\n",
        "print(f\"Range : ( {a[0]} , {a[-1]} )\")\n"
      ],
      "metadata": {
        "colab": {
          "base_uri": "https://localhost:8080/"
        },
        "id": "WWCAoHI8lU1a",
        "outputId": "894eaaa7-1a4f-469d-a1f5-8e23c6c06c04"
      },
      "execution_count": 47,
      "outputs": [
        {
          "output_type": "stream",
          "name": "stdout",
          "text": [
            "Range : ( 1 , 6 )\n"
          ]
        }
      ]
    },
    {
      "cell_type": "markdown",
      "source": [
        "#### Variance"
      ],
      "metadata": {
        "id": "6Tt74DPKpxh-"
      }
    },
    {
      "cell_type": "code",
      "source": [
        "dev = [(i - mean) ** 2 for i in NewList]\n",
        "var = sum(dev) / len(NewList)\n",
        "print(var)\n",
        "\n"
      ],
      "metadata": {
        "colab": {
          "base_uri": "https://localhost:8080/"
        },
        "id": "o010-ZyGomQw",
        "outputId": "5cb79eed-2d87-4127-ecdf-255576337b14"
      },
      "execution_count": 49,
      "outputs": [
        {
          "output_type": "stream",
          "name": "stdout",
          "text": [
            "2.96\n"
          ]
        }
      ]
    }
  ]
}